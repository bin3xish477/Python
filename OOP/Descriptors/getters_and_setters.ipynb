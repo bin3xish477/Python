{
 "cells": [
  {
   "cell_type": "markdown",
   "metadata": {},
   "source": [
    "# Getters and Setters"
   ]
  },
  {
   "cell_type": "code",
   "execution_count": 1,
   "metadata": {},
   "outputs": [],
   "source": [
    "from datetime import datetime"
   ]
  },
  {
   "cell_type": "code",
   "execution_count": 4,
   "metadata": {},
   "outputs": [],
   "source": [
    "class TimeUTC:\n",
    "    def __get__(self, instance, owner_class):\n",
    "        print(f\"get called, self={self}, instance={instance}, own={owner_class}\")\n",
    "        return datetime.utcnow().isoformat()"
   ]
  },
  {
   "cell_type": "code",
   "execution_count": 5,
   "metadata": {},
   "outputs": [],
   "source": [
    "class Logger1:\n",
    "    current_time = TimeUTC()\n",
    "    \n",
    "class Logger2:\n",
    "    current_time = TimeUTC()"
   ]
  },
  {
   "cell_type": "code",
   "execution_count": 8,
   "metadata": {},
   "outputs": [
    {
     "name": "stdout",
     "output_type": "stream",
     "text": [
      "get called, self=<__main__.TimeUTC object at 0x7f207a0189a0>, instance=None, own=<class '__main__.Logger1'>\n"
     ]
    },
    {
     "data": {
      "text/plain": [
       "'2020-05-08T21:27:20.799553'"
      ]
     },
     "execution_count": 8,
     "metadata": {},
     "output_type": "execute_result"
    }
   ],
   "source": [
    "Logger1.current_time"
   ]
  },
  {
   "cell_type": "code",
   "execution_count": 9,
   "metadata": {},
   "outputs": [
    {
     "name": "stdout",
     "output_type": "stream",
     "text": [
      "get called, self=<__main__.TimeUTC object at 0x7f207a018880>, instance=None, own=<class '__main__.Logger2'>\n"
     ]
    },
    {
     "data": {
      "text/plain": [
       "'2020-05-08T21:28:00.420469'"
      ]
     },
     "execution_count": 9,
     "metadata": {},
     "output_type": "execute_result"
    }
   ],
   "source": [
    "Logger2.current_time"
   ]
  },
  {
   "cell_type": "code",
   "execution_count": null,
   "metadata": {},
   "outputs": [],
   "source": []
  }
 ],
 "metadata": {
  "kernelspec": {
   "display_name": "Python 3",
   "language": "python",
   "name": "python3"
  },
  "language_info": {
   "codemirror_mode": {
    "name": "ipython",
    "version": 3
   },
   "file_extension": ".py",
   "mimetype": "text/x-python",
   "name": "python",
   "nbconvert_exporter": "python",
   "pygments_lexer": "ipython3",
   "version": "3.8.2"
  }
 },
 "nbformat": 4,
 "nbformat_minor": 2
}
